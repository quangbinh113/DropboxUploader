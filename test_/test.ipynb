{
 "cells": [
  {
   "cell_type": "code",
   "execution_count": 1,
   "metadata": {},
   "outputs": [],
   "source": [
    "import requests\n",
    "import pandas as pd\n",
    "import csv\n",
    "import os\n",
    "import sys\n",
    "import dropbox\n",
    "import dropbox.files\n",
    "from typing import Union, Dict"
   ]
  },
  {
   "cell_type": "code",
   "execution_count": 14,
   "metadata": {},
   "outputs": [
    {
     "data": {
      "text/plain": [
       "'small_test_file.txt'"
      ]
     },
     "execution_count": 14,
     "metadata": {},
     "output_type": "execute_result"
    }
   ],
   "source": [
    "test_url = r'E:\\Code\\frelance\\Change_URL\\PythonDropboxUploader\\small_test_file.txt'\n",
    "os.path.basename(test_url)"
   ]
  },
  {
   "cell_type": "code",
   "execution_count": 6,
   "metadata": {},
   "outputs": [
    {
     "ename": "ValueError",
     "evalue": "not enough values to unpack (expected 2, got 1)",
     "output_type": "error",
     "traceback": [
      "\u001b[1;31m---------------------------------------------------------------------------\u001b[0m",
      "\u001b[1;31mValueError\u001b[0m                                Traceback (most recent call last)",
      "\u001b[1;32me:\\Code\\frelance\\Change_URL\\PythonDropboxUploader\\test.ipynb Cell 3\u001b[0m line \u001b[0;36m1\n\u001b[1;32m----> <a href='vscode-notebook-cell:/e%3A/Code/frelance/Change_URL/PythonDropboxUploader/test.ipynb#W2sZmlsZQ%3D%3D?line=0'>1</a>\u001b[0m file_name, file_extension \u001b[39m=\u001b[39m test_url\u001b[39m.\u001b[39mrsplit(\u001b[39m'\u001b[39m\u001b[39m.\u001b[39m\u001b[39m'\u001b[39m, \u001b[39m1\u001b[39m)\n\u001b[0;32m      <a href='vscode-notebook-cell:/e%3A/Code/frelance/Change_URL/PythonDropboxUploader/test.ipynb#W2sZmlsZQ%3D%3D?line=1'>2</a>\u001b[0m file_name, file_extension\n",
      "\u001b[1;31mValueError\u001b[0m: not enough values to unpack (expected 2, got 1)"
     ]
    }
   ],
   "source": [
    "file_name, file_extension = test_url.rsplit('.', 1)\n",
    "file_name, file_extension"
   ]
  },
  {
   "cell_type": "code",
   "execution_count": 1,
   "metadata": {},
   "outputs": [],
   "source": [
    "import ast"
   ]
  },
  {
   "cell_type": "code",
   "execution_count": 3,
   "metadata": {},
   "outputs": [
    {
     "name": "stdout",
     "output_type": "stream",
     "text": [
      "['https://www.etsy.com/listing/1504595640/salem-massachusetts-apothecary-shirt-est?click_key=e69379da0a2db86a104719b376282c64fde7bfef%3A1504595640&click_sum=7934afdf&ref=shop_home_active_6&pro=1&sts=1', 'https://i.etsystatic.com/38526122/r/il/6a3d1f/5069062524/il_fullxfull.5069062524_ploy.jpg', '16.98', 'https://i.etsystatic.com/38526122/r/il/73139b/5069062552/il_fullxfull.5069062552_18ys.jpg', 'DISCRIPTION! <br><br>-Personalization box is only for design color information.<br>- Backside design is additional fee, please make sure to add the fee into your purchase. <br>- If you want to add or change anything on the existing design that we show in the display picture, please contact with the seller from message box to ask if the changes and additional request can be done or not, if you do not ask and request for it without asking in the order we will ship the item as it is without the requests done. <br>- Please check the color charts for the size and type of the tshirt you want, not every color is available for each type of tshirts, drop down comes automatically with every color but they are not available for each item so please make sure to check it, if you do not check the color charts the closest item will be sent to you. <br>- We have 3 different tshirt brand that we use, if you only want one particular brand please ask the seller for availability, if you do not ask we will ship the available brand. <br>- If you enter wrong address with your order, we will try to help you if you message us from the message box only if the item has not been made and processed to the packaging level to ship the item. <br>- Messages will be answered during business hours (9 am to 6 pm CST) and during business days ( Monday to Friday)<br><br>---------- How to Order Your Custom Design T-shirt ----------<br>• Choose your t-shirt color<br>• Choose your size<br>• Choose your design&amp;text color<br>• PLEASE make sure all your order’s steps<br><br>---------- Product ----------<br>• 4.2 oz., 100% airlume combed and ringspun cotton, 32 singles<br>• 32 singles Athletic Heather and Black Heather are 90/10 airlume combed and ringspun cotton/polyester Ash is 99/1 airlume combed and ringspun cotton/polyester<br>• double-needle stitching throughout<br>• seamless collar<br>• heat transfer label<br>• taped shoulder-to-shoulder', 'https://i.etsystatic.com/38526122/r/il/5535dd/5117289467/il_fullxfull.5117289467_25qr.jpg', 'https://i.etsystatic.com/38526122/r/il/306d8e/5069065470/il_fullxfull.5069065470_kmso.jpg', 'https://i.etsystatic.com/38526122/r/il/8473d4/5117289377/il_fullxfull.5117289377_36ee.jpg', 'Salem Massachusetts Apothecary Shirt, Est 1692 Shirt, Halloween Witch Shirt, Witch Poison Shirt, Halloween Shirt,Spooky Shirt,Halloween Gift', 'halloween sweatshirt,horror movie shirt,horror film club,spooky season,pumpkin shirt,halloween witch,spooky shirt,spooky season shirt,Halloween shirt,scary movie shirt,witch shirt,happy halloween']\n"
     ]
    }
   ],
   "source": [
    "str = \"[nan, 'https://www.etsy.com/listing/1504595640/salem-massachusetts-apothecary-shirt-est?click_key=e69379da0a2db86a104719b376282c64fde7bfef%3A1504595640&click_sum=7934afdf&ref=shop_home_active_6&pro=1&sts=1', 'https://i.etsystatic.com/38526122/r/il/6a3d1f/5069062524/il_fullxfull.5069062524_ploy.jpg', '16.98', 'https://i.etsystatic.com/38526122/r/il/73139b/5069062552/il_fullxfull.5069062552_18ys.jpg', 'DISCRIPTION! <br><br>-Personalization box is only for design color information.<br>- Backside design is additional fee, please make sure to add the fee into your purchase. <br>- If you want to add or change anything on the existing design that we show in the display picture, please contact with the seller from message box to ask if the changes and additional request can be done or not, if you do not ask and request for it without asking in the order we will ship the item as it is without the requests done. <br>- Please check the color charts for the size and type of the tshirt you want, not every color is available for each type of tshirts, drop down comes automatically with every color but they are not available for each item so please make sure to check it, if you do not check the color charts the closest item will be sent to you. <br>- We have 3 different tshirt brand that we use, if you only want one particular brand please ask the seller for availability, if you do not ask we will ship the available brand. <br>- If you enter wrong address with your order, we will try to help you if you message us from the message box only if the item has not been made and processed to the packaging level to ship the item. <br>- Messages will be answered during business hours (9 am to 6 pm CST) and during business days ( Monday to Friday)<br><br>---------- How to Order Your Custom Design T-shirt ----------<br>• Choose your t-shirt color<br>• Choose your size<br>• Choose your design&amp;text color<br>• PLEASE make sure all your order’s steps<br><br>---------- Product ----------<br>• 4.2 oz., 100% airlume combed and ringspun cotton, 32 singles<br>• 32 singles Athletic Heather and Black Heather are 90/10 airlume combed and ringspun cotton/polyester Ash is 99/1 airlume combed and ringspun cotton/polyester<br>• double-needle stitching throughout<br>• seamless collar<br>• heat transfer label<br>• taped shoulder-to-shoulder', 'https://i.etsystatic.com/38526122/r/il/5535dd/5117289467/il_fullxfull.5117289467_25qr.jpg', 'https://i.etsystatic.com/38526122/r/il/306d8e/5069065470/il_fullxfull.5069065470_kmso.jpg', 'https://i.etsystatic.com/38526122/r/il/8473d4/5117289377/il_fullxfull.5117289377_36ee.jpg', 'Salem Massachusetts Apothecary Shirt, Est 1692 Shirt, Halloween Witch Shirt, Witch Poison Shirt, Halloween Shirt,Spooky Shirt,Halloween Gift', 'halloween sweatshirt,horror movie shirt,horror film club,spooky season,pumpkin shirt,halloween witch,spooky shirt,spooky season shirt,Halloween shirt,scary movie shirt,witch shirt,happy halloween']\"\n",
    "arr = ast.literal_eval(str)\n",
    "print(arr)"
   ]
  },
  {
   "cell_type": "code",
   "execution_count": null,
   "metadata": {},
   "outputs": [],
   "source": []
  }
 ],
 "metadata": {
  "kernelspec": {
   "display_name": "Python 3",
   "language": "python",
   "name": "python3"
  },
  "language_info": {
   "codemirror_mode": {
    "name": "ipython",
    "version": 3
   },
   "file_extension": ".py",
   "mimetype": "text/x-python",
   "name": "python",
   "nbconvert_exporter": "python",
   "pygments_lexer": "ipython3",
   "version": "3.10.0rc2"
  }
 },
 "nbformat": 4,
 "nbformat_minor": 2
}
